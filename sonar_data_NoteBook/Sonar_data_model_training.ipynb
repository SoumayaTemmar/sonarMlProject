{
 "cells": [
  {
   "cell_type": "code",
   "execution_count": 2,
   "id": "12e819d5",
   "metadata": {},
   "outputs": [],
   "source": [
    "import pandas as pd\n",
    "from sklearn.preprocessing import StandardScaler\n",
    "from sklearn.model_selection import train_test_split, cross_val_score\n",
    "from sklearn.linear_model import LogisticRegression\n",
    "from sklearn.metrics import accuracy_score,confusion_matrix, classification_report\n",
    "import seaborn as sns\n",
    "import matplotlib.pyplot as plt"
   ]
  },
  {
   "cell_type": "code",
   "execution_count": 3,
   "id": "892c93a6",
   "metadata": {},
   "outputs": [],
   "source": [
    "df = pd.read_csv(\"data/sonar data.csv\", header=None)\n",
    "df.columns = [f\"Feature_{i}\" for i in range(60)] + [\"Target\"]"
   ]
  },
  {
   "cell_type": "code",
   "execution_count": 4,
   "id": "e338284e",
   "metadata": {},
   "outputs": [
    {
     "data": {
      "text/html": [
       "<div>\n",
       "<style scoped>\n",
       "    .dataframe tbody tr th:only-of-type {\n",
       "        vertical-align: middle;\n",
       "    }\n",
       "\n",
       "    .dataframe tbody tr th {\n",
       "        vertical-align: top;\n",
       "    }\n",
       "\n",
       "    .dataframe thead th {\n",
       "        text-align: right;\n",
       "    }\n",
       "</style>\n",
       "<table border=\"1\" class=\"dataframe\">\n",
       "  <thead>\n",
       "    <tr style=\"text-align: right;\">\n",
       "      <th></th>\n",
       "      <th>Feature_0</th>\n",
       "      <th>Feature_1</th>\n",
       "      <th>Feature_2</th>\n",
       "      <th>Feature_3</th>\n",
       "      <th>Feature_4</th>\n",
       "      <th>Feature_5</th>\n",
       "      <th>Feature_6</th>\n",
       "      <th>Feature_7</th>\n",
       "      <th>Feature_8</th>\n",
       "      <th>Feature_9</th>\n",
       "      <th>...</th>\n",
       "      <th>Feature_51</th>\n",
       "      <th>Feature_52</th>\n",
       "      <th>Feature_53</th>\n",
       "      <th>Feature_54</th>\n",
       "      <th>Feature_55</th>\n",
       "      <th>Feature_56</th>\n",
       "      <th>Feature_57</th>\n",
       "      <th>Feature_58</th>\n",
       "      <th>Feature_59</th>\n",
       "      <th>Target</th>\n",
       "    </tr>\n",
       "  </thead>\n",
       "  <tbody>\n",
       "    <tr>\n",
       "      <th>0</th>\n",
       "      <td>0.0200</td>\n",
       "      <td>0.0371</td>\n",
       "      <td>0.0428</td>\n",
       "      <td>0.0207</td>\n",
       "      <td>0.0954</td>\n",
       "      <td>0.0986</td>\n",
       "      <td>0.1539</td>\n",
       "      <td>0.1601</td>\n",
       "      <td>0.3109</td>\n",
       "      <td>0.2111</td>\n",
       "      <td>...</td>\n",
       "      <td>0.0027</td>\n",
       "      <td>0.0065</td>\n",
       "      <td>0.0159</td>\n",
       "      <td>0.0072</td>\n",
       "      <td>0.0167</td>\n",
       "      <td>0.0180</td>\n",
       "      <td>0.0084</td>\n",
       "      <td>0.0090</td>\n",
       "      <td>0.0032</td>\n",
       "      <td>R</td>\n",
       "    </tr>\n",
       "    <tr>\n",
       "      <th>1</th>\n",
       "      <td>0.0453</td>\n",
       "      <td>0.0523</td>\n",
       "      <td>0.0843</td>\n",
       "      <td>0.0689</td>\n",
       "      <td>0.1183</td>\n",
       "      <td>0.2583</td>\n",
       "      <td>0.2156</td>\n",
       "      <td>0.3481</td>\n",
       "      <td>0.3337</td>\n",
       "      <td>0.2872</td>\n",
       "      <td>...</td>\n",
       "      <td>0.0084</td>\n",
       "      <td>0.0089</td>\n",
       "      <td>0.0048</td>\n",
       "      <td>0.0094</td>\n",
       "      <td>0.0191</td>\n",
       "      <td>0.0140</td>\n",
       "      <td>0.0049</td>\n",
       "      <td>0.0052</td>\n",
       "      <td>0.0044</td>\n",
       "      <td>R</td>\n",
       "    </tr>\n",
       "    <tr>\n",
       "      <th>2</th>\n",
       "      <td>0.0262</td>\n",
       "      <td>0.0582</td>\n",
       "      <td>0.1099</td>\n",
       "      <td>0.1083</td>\n",
       "      <td>0.0974</td>\n",
       "      <td>0.2280</td>\n",
       "      <td>0.2431</td>\n",
       "      <td>0.3771</td>\n",
       "      <td>0.5598</td>\n",
       "      <td>0.6194</td>\n",
       "      <td>...</td>\n",
       "      <td>0.0232</td>\n",
       "      <td>0.0166</td>\n",
       "      <td>0.0095</td>\n",
       "      <td>0.0180</td>\n",
       "      <td>0.0244</td>\n",
       "      <td>0.0316</td>\n",
       "      <td>0.0164</td>\n",
       "      <td>0.0095</td>\n",
       "      <td>0.0078</td>\n",
       "      <td>R</td>\n",
       "    </tr>\n",
       "    <tr>\n",
       "      <th>3</th>\n",
       "      <td>0.0100</td>\n",
       "      <td>0.0171</td>\n",
       "      <td>0.0623</td>\n",
       "      <td>0.0205</td>\n",
       "      <td>0.0205</td>\n",
       "      <td>0.0368</td>\n",
       "      <td>0.1098</td>\n",
       "      <td>0.1276</td>\n",
       "      <td>0.0598</td>\n",
       "      <td>0.1264</td>\n",
       "      <td>...</td>\n",
       "      <td>0.0121</td>\n",
       "      <td>0.0036</td>\n",
       "      <td>0.0150</td>\n",
       "      <td>0.0085</td>\n",
       "      <td>0.0073</td>\n",
       "      <td>0.0050</td>\n",
       "      <td>0.0044</td>\n",
       "      <td>0.0040</td>\n",
       "      <td>0.0117</td>\n",
       "      <td>R</td>\n",
       "    </tr>\n",
       "    <tr>\n",
       "      <th>4</th>\n",
       "      <td>0.0762</td>\n",
       "      <td>0.0666</td>\n",
       "      <td>0.0481</td>\n",
       "      <td>0.0394</td>\n",
       "      <td>0.0590</td>\n",
       "      <td>0.0649</td>\n",
       "      <td>0.1209</td>\n",
       "      <td>0.2467</td>\n",
       "      <td>0.3564</td>\n",
       "      <td>0.4459</td>\n",
       "      <td>...</td>\n",
       "      <td>0.0031</td>\n",
       "      <td>0.0054</td>\n",
       "      <td>0.0105</td>\n",
       "      <td>0.0110</td>\n",
       "      <td>0.0015</td>\n",
       "      <td>0.0072</td>\n",
       "      <td>0.0048</td>\n",
       "      <td>0.0107</td>\n",
       "      <td>0.0094</td>\n",
       "      <td>R</td>\n",
       "    </tr>\n",
       "  </tbody>\n",
       "</table>\n",
       "<p>5 rows × 61 columns</p>\n",
       "</div>"
      ],
      "text/plain": [
       "   Feature_0  Feature_1  Feature_2  Feature_3  Feature_4  Feature_5  \\\n",
       "0     0.0200     0.0371     0.0428     0.0207     0.0954     0.0986   \n",
       "1     0.0453     0.0523     0.0843     0.0689     0.1183     0.2583   \n",
       "2     0.0262     0.0582     0.1099     0.1083     0.0974     0.2280   \n",
       "3     0.0100     0.0171     0.0623     0.0205     0.0205     0.0368   \n",
       "4     0.0762     0.0666     0.0481     0.0394     0.0590     0.0649   \n",
       "\n",
       "   Feature_6  Feature_7  Feature_8  Feature_9  ...  Feature_51  Feature_52  \\\n",
       "0     0.1539     0.1601     0.3109     0.2111  ...      0.0027      0.0065   \n",
       "1     0.2156     0.3481     0.3337     0.2872  ...      0.0084      0.0089   \n",
       "2     0.2431     0.3771     0.5598     0.6194  ...      0.0232      0.0166   \n",
       "3     0.1098     0.1276     0.0598     0.1264  ...      0.0121      0.0036   \n",
       "4     0.1209     0.2467     0.3564     0.4459  ...      0.0031      0.0054   \n",
       "\n",
       "   Feature_53  Feature_54  Feature_55  Feature_56  Feature_57  Feature_58  \\\n",
       "0      0.0159      0.0072      0.0167      0.0180      0.0084      0.0090   \n",
       "1      0.0048      0.0094      0.0191      0.0140      0.0049      0.0052   \n",
       "2      0.0095      0.0180      0.0244      0.0316      0.0164      0.0095   \n",
       "3      0.0150      0.0085      0.0073      0.0050      0.0044      0.0040   \n",
       "4      0.0105      0.0110      0.0015      0.0072      0.0048      0.0107   \n",
       "\n",
       "   Feature_59  Target  \n",
       "0      0.0032       R  \n",
       "1      0.0044       R  \n",
       "2      0.0078       R  \n",
       "3      0.0117       R  \n",
       "4      0.0094       R  \n",
       "\n",
       "[5 rows x 61 columns]"
      ]
     },
     "execution_count": 4,
     "metadata": {},
     "output_type": "execute_result"
    }
   ],
   "source": [
    "df.head()"
   ]
  },
  {
   "cell_type": "code",
   "execution_count": 5,
   "id": "d5c5e0cc",
   "metadata": {},
   "outputs": [],
   "source": [
    "\n",
    "# split the data\n",
    "x = df.iloc[:,:-1]\n",
    "y = df['Target']\n",
    "\n",
    "x_train, x_test, y_train, y_test = train_test_split(x, y, test_size=0.2,random_state=42, stratify=y)\n",
    "\n",
    "# data scaling\n",
    "scaler = StandardScaler()\n",
    "x_train_scaled = scaler.fit_transform(x_train)\n",
    "x_test_scaled = scaler.transform(x_test)"
   ]
  },
  {
   "cell_type": "code",
   "execution_count": 6,
   "id": "c8d95b4f",
   "metadata": {},
   "outputs": [
    {
     "name": "stdout",
     "output_type": "stream",
     "text": [
      "              precision    recall  f1-score   support\n",
      "\n",
      "           M       0.78      0.95      0.86        22\n",
      "           R       0.93      0.70      0.80        20\n",
      "\n",
      "    accuracy                           0.83        42\n",
      "   macro avg       0.86      0.83      0.83        42\n",
      "weighted avg       0.85      0.83      0.83        42\n",
      "\n"
     ]
    },
    {
     "data": {
      "image/png": "[encoded data removed]",
      "text/plain": [
       "<Figure size 640x480 with 2 Axes>"
      ]
     },
     "metadata": {},
     "output_type": "display_data"
    }
   ],
   "source": [
    "#base line model\n",
    "Log_reg_model = LogisticRegression(max_iter=1000)\n",
    "Log_reg_model.fit(x_train_scaled,y_train)\n",
    "\n",
    "y_pred = Log_reg_model.predict(x_test_scaled)\n",
    "print(classification_report(y_test,y_pred))\n",
    "sns.heatmap(confusion_matrix(y_test, y_pred), annot=True, fmt='d', cmap='Blues')\n",
    "plt.show()"
   ]
  },
  {
   "cell_type": "markdown",
   "id": "043e0f82",
   "metadata": {},
   "source": [
    "## Insight\n",
    "\n",
    "| Metric         | Class | Meaning                                                      |\n",
    "| :------------- | :---- | :----------------------------------------------------------- |\n",
    "| Precision 0.78 | M     | Some rocks are misclassified as mines (false alarms).        |\n",
    "| Recall 0.95    | M     | But it detects **actual mines** very good.                   |\n",
    "| Precision 0.93 | R     | minor number of mines missclassified as rock.                |\n",
    "| Recall 0.70    | R     | But some actual “R” are missed (model predicts “M” instead). |\n",
    "\n",
    "\n",
    "our model prioritizes catching all mines, even if it wrongly labels a few rocks as mines.\n",
    "That might actually be desirable — better to have a few false alarms than to miss a mine!"
   ]
  },
  {
   "cell_type": "code",
   "execution_count": 7,
   "id": "44fedbf0",
   "metadata": {},
   "outputs": [
    {
     "name": "stdout",
     "output_type": "stream",
     "text": [
      "Mean CV Accuracy: 0.7711229946524064\n"
     ]
    }
   ],
   "source": [
    "from sklearn.pipeline import Pipeline\n",
    "\n",
    "pipeline = Pipeline([\n",
    "   ('scaler', StandardScaler()),\n",
    "   ('log_reg', LogisticRegression(max_iter=1000))\n",
    "])\n",
    "scores = cross_val_score(pipeline, x_train, y_train, cv=5)\n",
    "print(\"Mean CV Accuracy:\", scores.mean())"
   ]
  },
  {
   "cell_type": "code",
   "execution_count": 8,
   "id": "12e86039",
   "metadata": {},
   "outputs": [
    {
     "data": {
      "image/png": "[encoded data removed]",
      "text/plain": [
       "<Figure size 1000x500 with 1 Axes>"
      ]
     },
     "metadata": {},
     "output_type": "display_data"
    }
   ],
   "source": [
    "import numpy as np\n",
    "\n",
    "importance = pd.DataFrame({\n",
    "    'Feature': df.columns[:-1],\n",
    "    'Weight': np.abs(Log_reg_model.coef_[0])\n",
    "}).sort_values('Weight', ascending=False)\n",
    "\n",
    "plt.figure(figsize=(10,5))\n",
    "sns.barplot(data=importance.head(10), x='Feature', y='Weight')\n",
    "plt.title(\"Top 10 Most Important Features\")\n",
    "plt.show()"
   ]
  },
  {
   "cell_type": "markdown",
   "id": "5b338142",
   "metadata": {},
   "source": [
    "## Models Comparision"
   ]
  },
  {
   "cell_type": "code",
   "execution_count": 9,
   "id": "6da9de4e",
   "metadata": {},
   "outputs": [],
   "source": [
    "from sklearn.neighbors import KNeighborsClassifier\n",
    "from sklearn.svm import SVC\n",
    "from sklearn.ensemble import RandomForestClassifier, GradientBoostingClassifier\n",
    "from sklearn.naive_bayes import GaussianNB\n",
    "from sklearn.neural_network import MLPClassifier"
   ]
  },
  {
   "cell_type": "code",
   "execution_count": 21,
   "id": "b6ec4616",
   "metadata": {},
   "outputs": [
    {
     "name": "stdout",
     "output_type": "stream",
     "text": [
      "                    model  cv_mean_accuracy  test_accuracy\n",
      "6          Neural Network          0.861497       0.880952\n",
      "2  Support Vector Machine          0.849376       0.857143\n",
      "1     K-Nearest Neighbors          0.825668       0.738095\n",
      "3           Random Forest          0.825312       0.880952\n",
      "4       Gradient Boosting          0.807487       0.857143\n",
      "0     Logistic Regression          0.771123       0.833333\n",
      "5             Naive Bayes          0.650624       0.642857\n"
     ]
    }
   ],
   "source": [
    "models = {\n",
    "   'Logistic Regression': LogisticRegression(max_iter=1000),\n",
    "   'K-Nearest Neighbors': KNeighborsClassifier(),\n",
    "   'Support Vector Machine': SVC(),\n",
    "   'Random Forest': RandomForestClassifier(),\n",
    "   'Gradient Boosting': GradientBoostingClassifier(),\n",
    "   'Naive Bayes': GaussianNB(),\n",
    "   'Neural Network': MLPClassifier(max_iter=1000)\n",
    "}\n",
    "\n",
    "results = []\n",
    "\n",
    "for name, model in models.items():\n",
    "   pipeline = Pipeline([\n",
    "      ('scaler', StandardScaler()),\n",
    "      ('classifier', model)\n",
    "   ])\n",
    "\n",
    "   scores = cross_val_score(pipeline, x_train, y_train, cv=5)\n",
    "   \n",
    "   # fit the model and test on test set\n",
    "   pipeline.fit(x_train, y_train)\n",
    "   y_pred = pipeline.predict(x_test)\n",
    "   test_acc = accuracy_score(y_test, y_pred)\n",
    "\n",
    "   results.append({\n",
    "      'model': name,\n",
    "      'cv_mean_accuracy': scores.mean(),\n",
    "      'test_accuracy': test_acc\n",
    "   })\n",
    "\n",
    "\n",
    "## print results\n",
    "\n",
    "results_df = pd.DataFrame(results).sort_values(by='cv_mean_accuracy', ascending=False)\n",
    "print(results_df)"
   ]
  },
  {
   "cell_type": "markdown",
   "id": "ba739a27",
   "metadata": {},
   "source": [
    "## Fine_Tune the top model"
   ]
  },
  {
   "cell_type": "code",
   "execution_count": 22,
   "id": "a6b3f17a",
   "metadata": {},
   "outputs": [
    {
     "name": "stdout",
     "output_type": "stream",
     "text": [
      "best param:  {'classifier__C': 1, 'classifier__gamma': 'scale', 'classifier__kernel': 'rbf'}\n",
      "best score:  0.8493761140819964\n"
     ]
    }
   ],
   "source": [
    "from sklearn.model_selection import GridSearchCV\n",
    "\n",
    "param_grid = {\n",
    "   'classifier__C':[0.01, 0.1, 1],\n",
    "   'classifier__kernel':['linear','rbf'],\n",
    "   'classifier__gamma':['scale', 'auto']\n",
    "}\n",
    "\n",
    "pipeline = Pipeline([\n",
    "   ('scaler', StandardScaler()),\n",
    "   ('classifier', SVC())\n",
    "])\n",
    "\n",
    "grid = GridSearchCV(pipeline, param_grid, cv=5,scoring='accuracy')\n",
    "grid.fit(x_train, y_train)\n",
    "\n",
    "print('best param: ', grid.best_params_)\n",
    "print('best score: ', grid.best_score_)"
   ]
  },
  {
   "cell_type": "code",
   "execution_count": 23,
   "id": "6b53b457",
   "metadata": {},
   "outputs": [
    {
     "name": "stdout",
     "output_type": "stream",
     "text": [
      "              precision    recall  f1-score   support\n",
      "\n",
      "           M       0.81      0.95      0.88        22\n",
      "           R       0.94      0.75      0.83        20\n",
      "\n",
      "    accuracy                           0.86        42\n",
      "   macro avg       0.87      0.85      0.85        42\n",
      "weighted avg       0.87      0.86      0.86        42\n",
      "\n"
     ]
    }
   ],
   "source": [
    "#get the best model and refit on the whole training data\n",
    "best_model = grid.best_estimator_\n",
    "best_model.fit(x_train, y_train)\n",
    "\n",
    "y_pred = best_model.predict(x_test)\n",
    "\n",
    "print(classification_report(y_test, y_pred))"
   ]
  },
  {
   "cell_type": "code",
   "execution_count": 24,
   "id": "83c7cd48",
   "metadata": {},
   "outputs": [
    {
     "name": "stdout",
     "output_type": "stream",
     "text": [
      "              precision    recall  f1-score   support\n",
      "\n",
      "           M       1.00      0.99      0.99        89\n",
      "           R       0.99      1.00      0.99        77\n",
      "\n",
      "    accuracy                           0.99       166\n",
      "   macro avg       0.99      0.99      0.99       166\n",
      "weighted avg       0.99      0.99      0.99       166\n",
      "\n"
     ]
    }
   ],
   "source": [
    "y_train_pred = best_model.predict(x_train)\n",
    "print(classification_report(y_train, y_train_pred))"
   ]
  },
  {
   "cell_type": "markdown",
   "id": "4228a05b",
   "metadata": {},
   "source": [
    "After hyperparameter tuning with 5-fold cross-validation, the best SVM model (RBF kernel, C=1, \n",
    "gamma='scale') achieved a training accuracy of 99% and a test accuracy of 86%.\n",
    "\n",
    "\n",
    "The small generalization gap suggests mild overfitting, which is expected due to the limited dataset size (208 samples).\n",
    "\n",
    "Cross-validation confirmed stable performance, indicating the model generalizes reasonably well."
   ]
  },
  {
   "cell_type": "code",
   "execution_count": null,
   "id": "55fa6680",
   "metadata": {},
   "outputs": [],
   "source": []
  }
 ],
 "metadata": {
  "kernelspec": {
   "display_name": "Python 3",
   "language": "python",
   "name": "python3"
  },
  "language_info": {
   "codemirror_mode": {
    "name": "ipython",
    "version": 3
   },
   "file_extension": ".py",
   "mimetype": "text/x-python",
   "name": "python",
   "nbconvert_exporter": "python",
   "pygments_lexer": "ipython3",
   "version": "3.8.20"
  }
 },
 "nbformat": 4,
 "nbformat_minor": 5
}
